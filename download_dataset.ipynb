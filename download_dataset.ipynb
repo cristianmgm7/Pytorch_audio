{
 "cells": [
  {
   "cell_type": "code",
   "execution_count": 1,
   "metadata": {},
   "outputs": [
    {
     "name": "stdout",
     "output_type": "stream",
     "text": [
      "['dcase23_task2', 'dcase23_task4b', 'dcase23_task6a', 'dcase23_task6b', 'dcase_bioacoustic', 'dcase_birdVox20k', 'eigenscape', 'eigenscape_raw', 'esc50', 'freefield1010', 'fsd50k', 'fsdnoisy18k', 'marco', 'singapura', 'starss2022', 'tau2019sse', 'tau2019uas', 'tau2020sse_nigens', 'tau2020uas_mobile', 'tau2021sse_nigens', 'tau2022uas_mobile', 'tut2017se', 'urbansed', 'urbansound8k', 'warblrb10k']\n"
     ]
    },
    {
     "name": "stderr",
     "output_type": "stream",
     "text": [
      "/Users/cristianmurillo/data_science/CNN_Audio_classification/venv/lib/python3.11/site-packages/pydub/utils.py:170: RuntimeWarning: Couldn't find ffmpeg or avconv - defaulting to ffmpeg, but may not work\n",
      "  warn(\"Couldn't find ffmpeg or avconv - defaulting to ffmpeg, but may not work\", RuntimeWarning)\n",
      "INFO: Downloading ['all'] to data\n",
      "INFO: [all] downloading UrbanSound8K.tar.gz\n",
      "5.61GB [02:56, 34.1MB/s]                                \n"
     ]
    }
   ],
   "source": [
    "import soundata\n",
    "\n",
    "# learn wich datasets are available in soundata\n",
    "print(soundata.list_datasets())\n",
    "\n",
    "# choose a dataset and download it\n",
    "dataset = soundata.initialize('urbansound8k', data_home='data')\n",
    "dataset.download()\n",
    "\n",
    "# get annotations and audio for a random clip\n",
    "example_clip = dataset.choice_clip()\n",
    "tags = example_clip.tags\n",
    "y, sr = example_clip.audio"
   ]
  }
 ],
 "metadata": {
  "kernelspec": {
   "display_name": "accnn",
   "language": "python",
   "name": "python3"
  },
  "language_info": {
   "codemirror_mode": {
    "name": "ipython",
    "version": 3
   },
   "file_extension": ".py",
   "mimetype": "text/x-python",
   "name": "python",
   "nbconvert_exporter": "python",
   "pygments_lexer": "ipython3",
   "version": "3.11.5"
  }
 },
 "nbformat": 4,
 "nbformat_minor": 2
}
